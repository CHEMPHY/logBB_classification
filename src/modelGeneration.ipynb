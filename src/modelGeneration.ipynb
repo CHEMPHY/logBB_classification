{
 "cells": [
  {
   "cell_type": "code",
   "execution_count": 17,
   "metadata": {
    "collapsed": false
   },
   "outputs": [],
   "source": [
    "from sklearn.discriminant_analysis import LinearDiscriminantAnalysis\n",
    "from sklearn.metrics import f1_score\n",
    "import numpy as np\n",
    "from itertools import islice"
   ]
  },
  {
   "cell_type": "code",
   "execution_count": 2,
   "metadata": {
    "collapsed": false
   },
   "outputs": [],
   "source": [
    "data = []\n",
    "isFirst = False\n",
    "with open('../data/features.csv') as f:\n",
    "    for line in islice(f,1,None):\n",
    "        temp = line[0:-1].split(',')\n",
    "        if isFirst is False:\n",
    "            isFirst = True\n",
    "            for i in range(len(temp)):\n",
    "                data.append([])\n",
    "                data[i].append(temp[i])\n",
    "        else:\n",
    "            for i in range(len(temp)):\n",
    "                data[i].append(temp[i])"
   ]
  },
  {
   "cell_type": "code",
   "execution_count": 3,
   "metadata": {
    "collapsed": true
   },
   "outputs": [],
   "source": [
    "for i in range(1,len(data)):\n",
    "    data[i] = [ float(x) for x in data[i] ]"
   ]
  },
  {
   "cell_type": "code",
   "execution_count": 10,
   "metadata": {
    "collapsed": false
   },
   "outputs": [],
   "source": [
    "logBB = []\n",
    "with open('../data/logBB.txt') as f:\n",
    "    for line in f:\n",
    "        logBB.append(float(line[0:-2]))\n",
    "    f.close()"
   ]
  },
  {
   "cell_type": "code",
   "execution_count": 11,
   "metadata": {
    "collapsed": false
   },
   "outputs": [],
   "source": [
    "y1 = [ \n",
    "    1 if i>=0.3\n",
    "    else 0 \n",
    "    for i in logBB\n",
    "]\n",
    "y2 = [\n",
    "    1 if i>=-1\n",
    "    else 0\n",
    "    for i in logBB\n",
    "]"
   ]
  },
  {
   "cell_type": "code",
   "execution_count": 69,
   "metadata": {
    "collapsed": false
   },
   "outputs": [
    {
     "data": {
      "text/plain": [
       "array([[ 73.55213198,   1.35761421],\n",
       "       [ 40.09263636,   2.44978182]])"
      ]
     },
     "execution_count": 69,
     "metadata": {},
     "output_type": "execute_result"
    }
   ],
   "source": [
    "train_x = [data[1], data[3]]\n",
    "train_x = np.array(train_x)\n",
    "train_x = train_x.transpose()\n",
    "train_y = y1\n",
    "lda = LinearDiscriminantAnalysis(solver=\"svd\", store_covariance=True,tol=0.01)\n",
    "y_pred = lda.fit(train_x, train_y).predict(train_x)\n",
    "lda.score(train_x,train_y)\n",
    "lda.means_"
   ]
  },
  {
   "cell_type": "code",
   "execution_count": 67,
   "metadata": {
    "collapsed": false
   },
   "outputs": [
    {
     "data": {
      "text/plain": [
       "0.88925081433224751"
      ]
     },
     "execution_count": 67,
     "metadata": {},
     "output_type": "execute_result"
    }
   ],
   "source": [
    "train_x = [data[1], data[3], data[7]]\n",
    "train_x = np.array(train_x)\n",
    "train_x = train_x.transpose()\n",
    "train_y = y2\n",
    "lda = LinearDiscriminantAnalysis(solver=\"svd\", store_covariance=True,tol=0.01)\n",
    "y_pred = lda.fit(train_x, train_y).predict(train_x)\n",
    "lda.score(train_x,train_y)"
   ]
  },
  {
   "cell_type": "code",
   "execution_count": 15,
   "metadata": {
    "collapsed": false
   },
   "outputs": [
    {
     "data": {
      "text/plain": [
       "array([[-0.0217102 ],\n",
       "       [ 0.23012746],\n",
       "       [ 0.3672364 ]])"
      ]
     },
     "execution_count": 15,
     "metadata": {},
     "output_type": "execute_result"
    }
   ],
   "source": [
    "lda.scalings_"
   ]
  },
  {
   "cell_type": "code",
   "execution_count": 18,
   "metadata": {
    "collapsed": false
   },
   "outputs": [
    {
     "data": {
      "text/plain": [
       "0.62176165803108796"
      ]
     },
     "execution_count": 18,
     "metadata": {},
     "output_type": "execute_result"
    }
   ],
   "source": [
    "f1_score(train_y,y_pred)"
   ]
  },
  {
   "cell_type": "code",
   "execution_count": 19,
   "metadata": {
    "collapsed": false
   },
   "outputs": [
    {
     "data": {
      "text/plain": [
       "LinearDiscriminantAnalysis(n_components=None, priors=None, shrinkage=None,\n",
       "              solver='svd', store_covariance=True, tol=0.01)"
      ]
     },
     "execution_count": 19,
     "metadata": {},
     "output_type": "execute_result"
    }
   ],
   "source": [
    "lda.fit(train_x, train_y)"
   ]
  },
  {
   "cell_type": "code",
   "execution_count": null,
   "metadata": {
    "collapsed": true
   },
   "outputs": [],
   "source": []
  }
 ],
 "metadata": {
  "kernelspec": {
   "display_name": "Python 3",
   "language": "python",
   "name": "python3"
  },
  "language_info": {
   "codemirror_mode": {
    "name": "ipython",
    "version": 3
   },
   "file_extension": ".py",
   "mimetype": "text/x-python",
   "name": "python",
   "nbconvert_exporter": "python",
   "pygments_lexer": "ipython3",
   "version": "3.5.2"
  }
 },
 "nbformat": 4,
 "nbformat_minor": 0
}
