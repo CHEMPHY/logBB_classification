{
 "cells": [
  {
   "cell_type": "code",
   "execution_count": 1,
   "metadata": {
    "collapsed": true
   },
   "outputs": [],
   "source": [
    "from itertools import islice\n",
    "import os\n",
    "import numpy as np\n",
    "from sklearn import cross_validation\n",
    "from sklearn.metrics import classification_report, confusion_matrix\n",
    "from sklearn.discriminant_analysis import LinearDiscriminantAnalysis"
   ]
  },
  {
   "cell_type": "code",
   "execution_count": 2,
   "metadata": {
    "collapsed": false
   },
   "outputs": [],
   "source": [
    "data = []\n",
    "with open('../data/original.csv') as f:\n",
    "    for line in islice(f,1,None):\n",
    "        temp = line.rstrip(os.linesep).split(',')\n",
    "        temp = temp[2:]\n",
    "        temp = [float(x) for x in temp]\n",
    "        data.append(temp)"
   ]
  },
  {
   "cell_type": "code",
   "execution_count": 3,
   "metadata": {
    "collapsed": false
   },
   "outputs": [],
   "source": [
    "data = np.array(data)\n",
    "y = data[:,0]\n",
    "x = data[:,1:4]"
   ]
  },
  {
   "cell_type": "code",
   "execution_count": 4,
   "metadata": {
    "collapsed": true
   },
   "outputs": [],
   "source": [
    "x1 = x[:,0:2]\n",
    "y1 = [ \n",
    "    1 if i>=0.3\n",
    "    else -1 \n",
    "    for i in y\n",
    "]"
   ]
  },
  {
   "cell_type": "code",
   "execution_count": 5,
   "metadata": {
    "collapsed": false
   },
   "outputs": [
    {
     "name": "stdout",
     "output_type": "stream",
     "text": [
      "Model 1:\n",
      "-Equation:(-0.027690999766363304)*TPSA+(0.5159492707621883)*logP+(-0.6878067844391902)\n",
      "-LOOCV accuracy:0.7947882736156352\n",
      "-Training classification report:\n",
      "             precision    recall  f1-score   support\n",
      "\n",
      "         -1       0.83      0.86      0.85       197\n",
      "          1       0.74      0.69      0.71       110\n",
      "\n",
      "avg / total       0.80      0.80      0.80       307\n",
      "\n",
      "-Confusion matrix:\n",
      "[[170  27]\n",
      " [ 34  76]]\n",
      "-Training accuracy:0.801302931596\n",
      "-Training sensitivity:0.690909090909\n",
      "-Training specificity0.862944162437\n"
     ]
    }
   ],
   "source": [
    "lda = LinearDiscriminantAnalysis(solver='svd', store_covariance=True,tol=0.01)\n",
    "lda.fit(x1,y1)\n",
    "print('Model 1:')\n",
    "print(('-Equation:({})*TPSA+({})*logP+({})').format(lda.coef_[0][0],lda.coef_[0][1],lda.intercept_[0]))\n",
    "y1_pred = lda.predict(x1)\n",
    "c = classification_report(y1,y1_pred)\n",
    "conf = confusion_matrix(y1,y1_pred)\n",
    "loo = cross_validation.LeaveOneOut(len(x1))\n",
    "score = cross_validation.cross_val_score(lda, x1, y1, cv=loo, n_jobs=-1)\n",
    "print('-LOOCV accuracy:{}'.format(np.mean(score)))\n",
    "print('-Training classification report:')\n",
    "print(c)\n",
    "print('-Confusion matrix:')\n",
    "print(conf)\n",
    "print('-Training accuracy:',end='')\n",
    "print((conf[0,0]+conf[1,1])/np.sum(conf))\n",
    "print('-Training sensitivity:',end='')\n",
    "print(conf[1,1]/(conf[1,0]+conf[1,1]))\n",
    "print('-Training specificity',end='')\n",
    "print(conf[0,0]/(conf[0,0]+conf[0,1]))"
   ]
  },
  {
   "cell_type": "code",
   "execution_count": 6,
   "metadata": {
    "collapsed": false
   },
   "outputs": [],
   "source": [
    "x2 = x\n",
    "y2 = [\n",
    "    1 if i>=-1\n",
    "    else -1 \n",
    "    for i in y\n",
    "]"
   ]
  },
  {
   "cell_type": "code",
   "execution_count": 7,
   "metadata": {
    "collapsed": false
   },
   "outputs": [
    {
     "name": "stdout",
     "output_type": "stream",
     "text": [
      "Model 2\n",
      "-Equation:(-0.032634360530268657)*TPSA+(0.2288811941956283)*logP+(-0.5671020565813774)*(a_acid+a_base)+(4.409500092147513)\n",
      "-LOOCV accuracy:0.8729641693811075\n",
      "-Classification report:\n",
      "             precision    recall  f1-score   support\n",
      "\n",
      "         -1       0.43      0.16      0.24        37\n",
      "          1       0.89      0.97      0.93       270\n",
      "\n",
      "avg / total       0.84      0.87      0.85       307\n",
      "\n",
      "-Confusion matrix:\n",
      "[[  6  31]\n",
      " [  8 262]]\n",
      "-Training accuracy:0.872964169381\n",
      "-Training sensitivity:0.97037037037\n",
      "-Training specificity0.162162162162\n"
     ]
    }
   ],
   "source": [
    "lda = LinearDiscriminantAnalysis(solver='svd', store_covariance=True,tol=0.01)\n",
    "lda.fit(x2,y2)\n",
    "print('Model 2')\n",
    "print(('-Equation:({})*TPSA+({})*logP+({})*(a_acid+a_base)+({})')\n",
    "      .format(lda.coef_[0][0],lda.coef_[0][1],lda.coef_[0][2],lda.intercept_[0]))\n",
    "y2_pred = lda.predict(x2)\n",
    "c = classification_report(y2,y2_pred)\n",
    "conf = confusion_matrix(y2,y2_pred)\n",
    "loo = cross_validation.LeaveOneOut(len(x2))\n",
    "score = cross_validation.cross_val_score(lda, x2, y2, cv=loo, n_jobs=-1)\n",
    "print('-LOOCV accuracy:{}'.format(np.mean(score)))\n",
    "print('-Classification report:')\n",
    "print(c)\n",
    "print('-Confusion matrix:')\n",
    "print(conf)\n",
    "print('-Training accuracy:',end='')\n",
    "print((conf[0,0]+conf[1,1])/np.sum(conf))\n",
    "print('-Training sensitivity:',end='')\n",
    "print(conf[1,1]/(conf[1,0]+conf[1,1]))\n",
    "print('-Training specificity',end='')\n",
    "print(conf[0,0]/(conf[0,0]+conf[0,1]))"
   ]
  },
  {
   "cell_type": "code",
   "execution_count": null,
   "metadata": {
    "collapsed": true
   },
   "outputs": [],
   "source": []
  }
 ],
 "metadata": {
  "kernelspec": {
   "display_name": "Python 3",
   "language": "python",
   "name": "python3"
  },
  "language_info": {
   "codemirror_mode": {
    "name": "ipython",
    "version": 3
   },
   "file_extension": ".py",
   "mimetype": "text/x-python",
   "name": "python",
   "nbconvert_exporter": "python",
   "pygments_lexer": "ipython3",
   "version": "3.5.2"
  }
 },
 "nbformat": 4,
 "nbformat_minor": 0
}
