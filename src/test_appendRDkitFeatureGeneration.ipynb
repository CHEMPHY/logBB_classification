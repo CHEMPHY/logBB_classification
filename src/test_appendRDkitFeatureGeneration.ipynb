{
 "cells": [
  {
   "cell_type": "code",
   "execution_count": 1,
   "metadata": {
    "collapsed": false
   },
   "outputs": [],
   "source": [
    "from rdkit.Chem import AllChem as Chem\n",
    "from rdkit.Chem import ChemicalFeatures\n",
    "from rdkit.Chem import Descriptors\n",
    "from rdkit import RDConfig\n",
    "import os"
   ]
  },
  {
   "cell_type": "code",
   "execution_count": 2,
   "metadata": {
    "collapsed": true
   },
   "outputs": [],
   "source": [
    "fdefName = os.path.join(RDConfig.RDDataDir,'BaseFeatures.fdef')\n",
    "factory = ChemicalFeatures.BuildFeatureFactory(fdefName)"
   ]
  },
  {
   "cell_type": "code",
   "execution_count": 3,
   "metadata": {
    "collapsed": false
   },
   "outputs": [],
   "source": [
    "isFirst = True\n",
    "smiles = []\n",
    "lines = []\n",
    "with open('../data/train_CDKfeatures.csv') as f:\n",
    "    for line in f:\n",
    "        if isFirst == True:\n",
    "            lines.append(line[0:-1])\n",
    "            isFirst = False\n",
    "        else:\n",
    "            lines.append(line[0:-1])\n",
    "            temp = line[0:-1].split(',')\n",
    "            smiles.append(temp[0])\n",
    "    f.close()"
   ]
  },
  {
   "cell_type": "code",
   "execution_count": 4,
   "metadata": {
    "collapsed": false
   },
   "outputs": [],
   "source": [
    "with open('../data/train_mergeFeatures.csv','w') as f:\n",
    "    f.write(lines[0]+','+','.join(['TPSA_CDK','MolLogP','NumHDonors','NumHAcceptors','NumHDonors+NumHAcceptors'])+'\\n')\n",
    "    for mol, line in zip(smiles,lines[1:]):\n",
    "        f.write(line)\n",
    "        m = Chem.MolFromSmiles(mol)\n",
    "        f.write(','+','.join([str(Descriptors.TPSA(m)),str(Descriptors.MolLogP(m)),\n",
    "                str(Descriptors.NumHDonors(m)),str(Descriptors.NumHAcceptors(m)),\n",
    "                str(Descriptors.NumHDonors(m)+Descriptors.NumHAcceptors(m))])\n",
    "                +'\\n')\n",
    "    f.close()"
   ]
  }
 ],
 "metadata": {
  "kernelspec": {
   "display_name": "Python 3",
   "language": "python",
   "name": "python3"
  },
  "language_info": {
   "codemirror_mode": {
    "name": "ipython",
    "version": 3
   },
   "file_extension": ".py",
   "mimetype": "text/x-python",
   "name": "python",
   "nbconvert_exporter": "python",
   "pygments_lexer": "ipython3",
   "version": "3.5.2"
  }
 },
 "nbformat": 4,
 "nbformat_minor": 0
}
